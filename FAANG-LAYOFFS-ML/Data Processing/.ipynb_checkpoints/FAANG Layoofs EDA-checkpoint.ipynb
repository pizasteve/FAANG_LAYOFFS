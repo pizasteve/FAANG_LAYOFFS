{
 "cells": [
  {
   "cell_type": "markdown",
   "id": "05788d35",
   "metadata": {},
   "source": [
    "<center><h1 style=\"color:#1a1a1a;\n",
    "                    font-size:3em\">\n",
    "        FAANG Layoffs❗❗\n",
    "        </h1> \n",
    "        <h2 style=\"color:#1a1a1a;\n",
    "                    font-size:2em\">\n",
    "        Predicting the layoff possibility of Tech 💻 employees\n",
    "            <br>\n",
    "       </h2>\n",
    "</center>"
   ]
  },
  {
   "cell_type": "markdown",
   "id": "3ccd1fd3",
   "metadata": {},
   "source": [
    "<div style=\"font-size:1.3em\">\n",
    "    <span>\n",
    "    Réalisé par :¶\n",
    "    </span>\n",
    "      <ul>\n",
    "         <li>Baddag Mohamed</li>\n",
    "         <li>Baggar Nassim</li>\n",
    "         <li>Boukhris Imane</li>\n",
    "         <li>Sbai Achraf</li>\n",
    "      </ul>\n",
    "    <span>\n",
    "    Encadré par :¶\n",
    "    </span>\n",
    "      <ul>\n",
    "         <li>Mr. El Hamlaoui Mahmoud</li>\n",
    "      </ul>\n",
    "</div>\n"
   ]
  },
  {
   "cell_type": "markdown",
   "id": "ba491fd3",
   "metadata": {},
   "source": [
    "<p style=\"font-size:2em\">📜 Table of Content:</p><br>\n",
    "<div style=\"font-size:1.5em\">\n",
    "    <ul>\n",
    "        <li>\n",
    "          <a href=\"#intro\">Introduction 🧾</a>\n",
    "       </li><br>\n",
    "       <li>\n",
    "          <a href=\"#pre-processing\">Prepare a dataset 📂</a>\n",
    "       </li><br>\n",
    "        <li>\n",
    "          <a href=\"#eda\"> EDA 🔎</a>\n",
    "       </li><br>\n",
    "            <li>\n",
    "          <a href=\"#ftr-eng\"> Feature Engineering 🏗️</a>\n",
    "       </li><br>\n",
    "        <li>\n",
    "          <a href=\"#prepro\">Preprocessing ⚙️</a>\n",
    "       </li><br>\n",
    "       <li>\n",
    "          <a href=\"#model-building\">Building models 🛠️</a>\n",
    "       </li><br>\n",
    "       <li>\n",
    "          <a href=\"#model-eval\">Models Comparison 📉</a>\n",
    "       </li><br> \n",
    "               <li>\n",
    "          <a href=\"#model-prod\">Model to Production 👷‍</a>\n",
    "       </li><br> \n",
    "    </ul>\n",
    "</div>"
   ]
  },
  {
   "cell_type": "markdown",
   "id": "2a331afb",
   "metadata": {},
   "source": [
    "<div id=\"intro\">\n",
    "        <h1 style=\"color:#1a1a1a\">\n",
    "         Introduction 🧾\n",
    "        </h1>\n",
    "</div>"
   ]
  },
  {
   "cell_type": "markdown",
   "id": "535d0a5e",
   "metadata": {},
   "source": [
    "<h4 style=\"color:grey\"> Importing Liberaries</h4>"
   ]
  },
  {
   "cell_type": "code",
   "execution_count": 1,
   "id": "6285459c",
   "metadata": {},
   "outputs": [],
   "source": [
    "# Importing libraries\n",
    "import numpy as np\n",
    "import pandas as pd\n",
    "\n",
    "import seaborn as sns\n",
    "import matplotlib.pyplot as plt\n",
    "\n",
    "import plotly.express as px\n",
    "import plotly.graph_objects as go\n",
    "import plotly.offline as py\n",
    "\n",
    "import warnings\n",
    "warnings.filterwarnings(\"ignore\")\n",
    "\n",
    "%matplotlib inline"
   ]
  },
  {
   "cell_type": "markdown",
   "id": "b7ab0560",
   "metadata": {},
   "source": [
    "<div id=\"pre-processing\">\n",
    "        <h1 style=\"color:#1a1a1a\">\n",
    "            Prepare a dataset 📂\n",
    "        </h1>\n",
    "</div>"
   ]
  },
  {
   "cell_type": "markdown",
   "id": "30ca945e",
   "metadata": {},
   "source": [
    "<h4 style=\"color:grey\"> Importing the data that we have scraped in a csv format</h4>"
   ]
  },
  {
   "cell_type": "code",
   "execution_count": 2,
   "id": "729ee5a1",
   "metadata": {},
   "outputs": [],
   "source": [
    "dataset = pd.read_csv(\"../FAANG.csv\")"
   ]
  },
  {
   "cell_type": "code",
   "execution_count": 3,
   "id": "bb93f17f",
   "metadata": {},
   "outputs": [
    {
     "data": {
      "text/html": [
       "<div>\n",
       "<style scoped>\n",
       "    .dataframe tbody tr th:only-of-type {\n",
       "        vertical-align: middle;\n",
       "    }\n",
       "\n",
       "    .dataframe tbody tr th {\n",
       "        vertical-align: top;\n",
       "    }\n",
       "\n",
       "    .dataframe thead th {\n",
       "        text-align: right;\n",
       "    }\n",
       "</style>\n",
       "<table border=\"1\" class=\"dataframe\">\n",
       "  <thead>\n",
       "    <tr style=\"text-align: right;\">\n",
       "      <th></th>\n",
       "      <th>Name</th>\n",
       "      <th>Headline</th>\n",
       "      <th>Location</th>\n",
       "      <th>Company</th>\n",
       "      <th>Company_Months</th>\n",
       "      <th>Work_Months</th>\n",
       "      <th>Laidoff</th>\n",
       "    </tr>\n",
       "  </thead>\n",
       "  <tbody>\n",
       "    <tr>\n",
       "      <th>0</th>\n",
       "      <td>Jillian James</td>\n",
       "      <td>Software Engineer</td>\n",
       "      <td>Nevada</td>\n",
       "      <td>Meta</td>\n",
       "      <td>38</td>\n",
       "      <td>273</td>\n",
       "      <td>False</td>\n",
       "    </tr>\n",
       "    <tr>\n",
       "      <th>1</th>\n",
       "      <td>Daniel Nguyen</td>\n",
       "      <td>Software Engineer</td>\n",
       "      <td>Arizona</td>\n",
       "      <td>Meta</td>\n",
       "      <td>141</td>\n",
       "      <td>213</td>\n",
       "      <td>False</td>\n",
       "    </tr>\n",
       "    <tr>\n",
       "      <th>2</th>\n",
       "      <td>Samantha Robertson</td>\n",
       "      <td>Project Manager</td>\n",
       "      <td>Minnesota</td>\n",
       "      <td>Meta</td>\n",
       "      <td>138</td>\n",
       "      <td>341</td>\n",
       "      <td>False</td>\n",
       "    </tr>\n",
       "    <tr>\n",
       "      <th>3</th>\n",
       "      <td>Antonio Hernandez</td>\n",
       "      <td>Data Engineer</td>\n",
       "      <td>Maryland</td>\n",
       "      <td>Meta</td>\n",
       "      <td>134</td>\n",
       "      <td>213</td>\n",
       "      <td>False</td>\n",
       "    </tr>\n",
       "    <tr>\n",
       "      <th>4</th>\n",
       "      <td>Sarah Whitney</td>\n",
       "      <td>Data Analyst</td>\n",
       "      <td>Indiana</td>\n",
       "      <td>Meta</td>\n",
       "      <td>193</td>\n",
       "      <td>337</td>\n",
       "      <td>False</td>\n",
       "    </tr>\n",
       "    <tr>\n",
       "      <th>5</th>\n",
       "      <td>Nicholas Holloway</td>\n",
       "      <td>Program Manager</td>\n",
       "      <td>Iowa</td>\n",
       "      <td>Meta</td>\n",
       "      <td>130</td>\n",
       "      <td>334</td>\n",
       "      <td>False</td>\n",
       "    </tr>\n",
       "    <tr>\n",
       "      <th>6</th>\n",
       "      <td>Heather Saunders</td>\n",
       "      <td>Data Analyst</td>\n",
       "      <td>Vermont</td>\n",
       "      <td>Meta</td>\n",
       "      <td>72</td>\n",
       "      <td>309</td>\n",
       "      <td>False</td>\n",
       "    </tr>\n",
       "    <tr>\n",
       "      <th>7</th>\n",
       "      <td>Edgar Shields</td>\n",
       "      <td>Data Analyst</td>\n",
       "      <td>North Carolina</td>\n",
       "      <td>Meta</td>\n",
       "      <td>135</td>\n",
       "      <td>160</td>\n",
       "      <td>False</td>\n",
       "    </tr>\n",
       "  </tbody>\n",
       "</table>\n",
       "</div>"
      ],
      "text/plain": [
       "                 Name            Headline        Location Company  \\\n",
       "0       Jillian James  Software Engineer           Nevada    Meta   \n",
       "1       Daniel Nguyen  Software Engineer          Arizona    Meta   \n",
       "2  Samantha Robertson    Project Manager        Minnesota    Meta   \n",
       "3   Antonio Hernandez       Data Engineer        Maryland    Meta   \n",
       "4       Sarah Whitney        Data Analyst         Indiana    Meta   \n",
       "5   Nicholas Holloway     Program Manager            Iowa    Meta   \n",
       "6    Heather Saunders        Data Analyst         Vermont    Meta   \n",
       "7       Edgar Shields        Data Analyst  North Carolina    Meta   \n",
       "\n",
       "   Company_Months  Work_Months  Laidoff  \n",
       "0              38          273    False  \n",
       "1             141          213    False  \n",
       "2             138          341    False  \n",
       "3             134          213    False  \n",
       "4             193          337    False  \n",
       "5             130          334    False  \n",
       "6              72          309    False  \n",
       "7             135          160    False  "
      ]
     },
     "execution_count": 3,
     "metadata": {},
     "output_type": "execute_result"
    }
   ],
   "source": [
    "# head() function takes the number of lines you wanna show as an argument\n",
    "dataset.head(8)"
   ]
  },
  {
   "cell_type": "code",
   "execution_count": 4,
   "id": "23fd2aca",
   "metadata": {},
   "outputs": [
    {
     "name": "stdout",
     "output_type": "stream",
     "text": [
      "There are 1852 rows and 7 columns\n"
     ]
    }
   ],
   "source": [
    "# dataset shape\n",
    "nRow, nCol = dataset.shape\n",
    "print(f'There are {nRow} rows and {nCol} columns')"
   ]
  },
  {
   "cell_type": "markdown",
   "id": "d134a52e",
   "metadata": {},
   "source": [
    "<div id=\"eda\">\n",
    "        <h1 style=\"color:#1a1a1a\">\n",
    "              EDA 🔎\n",
    "        </h1>\n",
    "</div>"
   ]
  },
  {
   "cell_type": "code",
   "execution_count": 5,
   "id": "ed6ce990",
   "metadata": {},
   "outputs": [
    {
     "name": "stdout",
     "output_type": "stream",
     "text": [
      "<class 'pandas.core.frame.DataFrame'>\n",
      "RangeIndex: 1852 entries, 0 to 1851\n",
      "Data columns (total 7 columns):\n",
      " #   Column          Non-Null Count  Dtype \n",
      "---  ------          --------------  ----- \n",
      " 0   Name            1852 non-null   object\n",
      " 1   Headline        1852 non-null   object\n",
      " 2   Location        1852 non-null   object\n",
      " 3   Company         1852 non-null   object\n",
      " 4   Company_Months  1852 non-null   int64 \n",
      " 5   Work_Months     1852 non-null   int64 \n",
      " 6   Laidoff         1852 non-null   bool  \n",
      "dtypes: bool(1), int64(2), object(4)\n",
      "memory usage: 88.7+ KB\n"
     ]
    }
   ],
   "source": [
    "# info() \n",
    "dataset.info()"
   ]
  },
  {
   "cell_type": "code",
   "execution_count": 6,
   "id": "a56f82d4",
   "metadata": {},
   "outputs": [
    {
     "data": {
      "text/html": [
       "<div>\n",
       "<style scoped>\n",
       "    .dataframe tbody tr th:only-of-type {\n",
       "        vertical-align: middle;\n",
       "    }\n",
       "\n",
       "    .dataframe tbody tr th {\n",
       "        vertical-align: top;\n",
       "    }\n",
       "\n",
       "    .dataframe thead th {\n",
       "        text-align: right;\n",
       "    }\n",
       "</style>\n",
       "<table border=\"1\" class=\"dataframe\">\n",
       "  <thead>\n",
       "    <tr style=\"text-align: right;\">\n",
       "      <th></th>\n",
       "      <th>Company_Months</th>\n",
       "      <th>Work_Months</th>\n",
       "    </tr>\n",
       "  </thead>\n",
       "  <tbody>\n",
       "    <tr>\n",
       "      <th>count</th>\n",
       "      <td>1852.000000</td>\n",
       "      <td>1852.000000</td>\n",
       "    </tr>\n",
       "    <tr>\n",
       "      <th>mean</th>\n",
       "      <td>119.814795</td>\n",
       "      <td>238.386069</td>\n",
       "    </tr>\n",
       "    <tr>\n",
       "      <th>std</th>\n",
       "      <td>69.050070</td>\n",
       "      <td>81.245149</td>\n",
       "    </tr>\n",
       "    <tr>\n",
       "      <th>min</th>\n",
       "      <td>1.000000</td>\n",
       "      <td>11.000000</td>\n",
       "    </tr>\n",
       "    <tr>\n",
       "      <th>25%</th>\n",
       "      <td>61.000000</td>\n",
       "      <td>188.000000</td>\n",
       "    </tr>\n",
       "    <tr>\n",
       "      <th>50%</th>\n",
       "      <td>119.000000</td>\n",
       "      <td>249.500000</td>\n",
       "    </tr>\n",
       "    <tr>\n",
       "      <th>75%</th>\n",
       "      <td>180.000000</td>\n",
       "      <td>303.000000</td>\n",
       "    </tr>\n",
       "    <tr>\n",
       "      <th>max</th>\n",
       "      <td>239.000000</td>\n",
       "      <td>359.000000</td>\n",
       "    </tr>\n",
       "  </tbody>\n",
       "</table>\n",
       "</div>"
      ],
      "text/plain": [
       "       Company_Months  Work_Months\n",
       "count     1852.000000  1852.000000\n",
       "mean       119.814795   238.386069\n",
       "std         69.050070    81.245149\n",
       "min          1.000000    11.000000\n",
       "25%         61.000000   188.000000\n",
       "50%        119.000000   249.500000\n",
       "75%        180.000000   303.000000\n",
       "max        239.000000   359.000000"
      ]
     },
     "execution_count": 6,
     "metadata": {},
     "output_type": "execute_result"
    }
   ],
   "source": [
    "# describe() function gives a disc of all the columns\n",
    "dataset.describe()"
   ]
  },
  {
   "cell_type": "code",
   "execution_count": 7,
   "id": "14957c4a",
   "metadata": {
    "scrolled": true
   },
   "outputs": [
    {
     "data": {
      "text/plain": [
       "Name              0\n",
       "Headline          0\n",
       "Location          0\n",
       "Company           0\n",
       "Company_Months    0\n",
       "Work_Months       0\n",
       "Laidoff           0\n",
       "dtype: int64"
      ]
     },
     "execution_count": 7,
     "metadata": {},
     "output_type": "execute_result"
    }
   ],
   "source": [
    "# isnull() checking the null values\n",
    "dataset.isnull().sum()"
   ]
  },
  {
   "cell_type": "code",
   "execution_count": 8,
   "id": "68f54822",
   "metadata": {},
   "outputs": [],
   "source": [
    "# function to plot hist\n",
    "def histogram(var):\n",
    "    plt.figure(figsize = (10,5))\n",
    "    plt.hist(dataset[var], bins=40)\n",
    "    plt.xlabel(var)\n",
    "    plt.ylabel(\"Frequency\")\n",
    "    plt.title(\"histogram of \"+var)\n",
    "    plt.show()"
   ]
  },
  {
   "cell_type": "code",
   "execution_count": 9,
   "id": "9a6d6a3a",
   "metadata": {},
   "outputs": [
    {
     "data": {
      "image/png": "[encoded data removed]",
      "text/plain": [
       "<Figure size 720x360 with 1 Axes>"
      ]
     },
     "metadata": {
      "needs_background": "light"
     },
     "output_type": "display_data"
    }
   ],
   "source": [
    "histogram(\"Company_Months\")"
   ]
  },
  {
   "cell_type": "code",
   "execution_count": 10,
   "id": "2f474db0",
   "metadata": {},
   "outputs": [
    {
     "data": {
      "image/png": "[encoded data removed]",
      "text/plain": [
       "<Figure size 720x360 with 1 Axes>"
      ]
     },
     "metadata": {
      "needs_background": "light"
     },
     "output_type": "display_data"
    }
   ],
   "source": [
    "histogram(\"Work_Months\")"
   ]
  },
  {
   "cell_type": "code",
   "execution_count": 11,
   "id": "b3217bc4",
   "metadata": {},
   "outputs": [],
   "source": [
    "def bar(var_name):\n",
    "    plt.figure(figsize=(7,7))\n",
    "    counted_values = dataset[var_name].value_counts()\n",
    "\n",
    "    plt.bar(counted_values.index, counted_values)\n",
    "    plt.xlabel(var_name)\n",
    "    plt.ylabel(\"number\")\n",
    "    plt.title(\"frequncy of \"+var_name)\n",
    "    \n"
   ]
  },
  {
   "cell_type": "code",
   "execution_count": 12,
   "id": "64cdabd0",
   "metadata": {},
   "outputs": [
    {
     "data": {
      "image/png": "[encoded data removed]",
      "text/plain": [
       "<Figure size 504x504 with 1 Axes>"
      ]
     },
     "metadata": {
      "needs_background": "light"
     },
     "output_type": "display_data"
    }
   ],
   "source": [
    "bar(\"Laidoff\")"
   ]
  },
  {
   "cell_type": "code",
   "execution_count": 13,
   "id": "a8f6c65d",
   "metadata": {},
   "outputs": [
    {
     "data": {
      "text/html": [
       "<div>\n",
       "<style scoped>\n",
       "    .dataframe tbody tr th:only-of-type {\n",
       "        vertical-align: middle;\n",
       "    }\n",
       "\n",
       "    .dataframe tbody tr th {\n",
       "        vertical-align: top;\n",
       "    }\n",
       "\n",
       "    .dataframe thead th {\n",
       "        text-align: right;\n",
       "    }\n",
       "</style>\n",
       "<table border=\"1\" class=\"dataframe\">\n",
       "  <thead>\n",
       "    <tr style=\"text-align: right;\">\n",
       "      <th></th>\n",
       "      <th>Headline</th>\n",
       "      <th>Laidoff</th>\n",
       "    </tr>\n",
       "  </thead>\n",
       "  <tbody>\n",
       "    <tr>\n",
       "      <th>0</th>\n",
       "      <td>3D Artist</td>\n",
       "      <td>0.094972</td>\n",
       "    </tr>\n",
       "    <tr>\n",
       "      <th>1</th>\n",
       "      <td>Associate General Counsel Data Protection</td>\n",
       "      <td>0.173611</td>\n",
       "    </tr>\n",
       "    <tr>\n",
       "      <th>2</th>\n",
       "      <td>Data Analyst</td>\n",
       "      <td>0.102703</td>\n",
       "    </tr>\n",
       "    <tr>\n",
       "      <th>3</th>\n",
       "      <td>Data Engineer</td>\n",
       "      <td>0.118012</td>\n",
       "    </tr>\n",
       "    <tr>\n",
       "      <th>4</th>\n",
       "      <td>Data Scientist</td>\n",
       "      <td>0.138889</td>\n",
       "    </tr>\n",
       "    <tr>\n",
       "      <th>5</th>\n",
       "      <td>Data Scientist</td>\n",
       "      <td>0.136095</td>\n",
       "    </tr>\n",
       "    <tr>\n",
       "      <th>6</th>\n",
       "      <td>Machine Learning Engineer</td>\n",
       "      <td>0.128049</td>\n",
       "    </tr>\n",
       "    <tr>\n",
       "      <th>7</th>\n",
       "      <td>Product Manager</td>\n",
       "      <td>0.099010</td>\n",
       "    </tr>\n",
       "    <tr>\n",
       "      <th>8</th>\n",
       "      <td>Program Manager</td>\n",
       "      <td>0.222892</td>\n",
       "    </tr>\n",
       "    <tr>\n",
       "      <th>9</th>\n",
       "      <td>Project Manager</td>\n",
       "      <td>0.123457</td>\n",
       "    </tr>\n",
       "    <tr>\n",
       "      <th>10</th>\n",
       "      <td>Software Engineer</td>\n",
       "      <td>0.142045</td>\n",
       "    </tr>\n",
       "  </tbody>\n",
       "</table>\n",
       "</div>"
      ],
      "text/plain": [
       "                                     Headline   Laidoff\n",
       "0                                   3D Artist  0.094972\n",
       "1   Associate General Counsel Data Protection  0.173611\n",
       "2                                Data Analyst  0.102703\n",
       "3                               Data Engineer  0.118012\n",
       "4                              Data Scientist  0.138889\n",
       "5                             Data Scientist   0.136095\n",
       "6                   Machine Learning Engineer  0.128049\n",
       "7                             Product Manager  0.099010\n",
       "8                             Program Manager  0.222892\n",
       "9                            Project Manager   0.123457\n",
       "10                         Software Engineer   0.142045"
      ]
     },
     "execution_count": 13,
     "metadata": {},
     "output_type": "execute_result"
    }
   ],
   "source": [
    "# correlation between Headline and Laidoff\n",
    "df_2_col = dataset[['Headline','Laidoff']]\n",
    "df_2_col.groupby([\"Headline\"], as_index=False).mean()"
   ]
  },
  {
   "cell_type": "code",
   "execution_count": 14,
   "id": "60a7dc91",
   "metadata": {
    "scrolled": true
   },
   "outputs": [
    {
     "data": {
      "text/html": [
       "<div>\n",
       "<style scoped>\n",
       "    .dataframe tbody tr th:only-of-type {\n",
       "        vertical-align: middle;\n",
       "    }\n",
       "\n",
       "    .dataframe tbody tr th {\n",
       "        vertical-align: top;\n",
       "    }\n",
       "\n",
       "    .dataframe thead th {\n",
       "        text-align: right;\n",
       "    }\n",
       "</style>\n",
       "<table border=\"1\" class=\"dataframe\">\n",
       "  <thead>\n",
       "    <tr style=\"text-align: right;\">\n",
       "      <th></th>\n",
       "      <th>Headline</th>\n",
       "      <th>Laidoff</th>\n",
       "    </tr>\n",
       "  </thead>\n",
       "  <tbody>\n",
       "    <tr>\n",
       "      <th>8</th>\n",
       "      <td>Program Manager</td>\n",
       "      <td>0.222892</td>\n",
       "    </tr>\n",
       "    <tr>\n",
       "      <th>1</th>\n",
       "      <td>Associate General Counsel Data Protection</td>\n",
       "      <td>0.173611</td>\n",
       "    </tr>\n",
       "    <tr>\n",
       "      <th>10</th>\n",
       "      <td>Software Engineer</td>\n",
       "      <td>0.142045</td>\n",
       "    </tr>\n",
       "    <tr>\n",
       "      <th>4</th>\n",
       "      <td>Data Scientist</td>\n",
       "      <td>0.138889</td>\n",
       "    </tr>\n",
       "    <tr>\n",
       "      <th>5</th>\n",
       "      <td>Data Scientist</td>\n",
       "      <td>0.136095</td>\n",
       "    </tr>\n",
       "    <tr>\n",
       "      <th>6</th>\n",
       "      <td>Machine Learning Engineer</td>\n",
       "      <td>0.128049</td>\n",
       "    </tr>\n",
       "    <tr>\n",
       "      <th>9</th>\n",
       "      <td>Project Manager</td>\n",
       "      <td>0.123457</td>\n",
       "    </tr>\n",
       "    <tr>\n",
       "      <th>3</th>\n",
       "      <td>Data Engineer</td>\n",
       "      <td>0.118012</td>\n",
       "    </tr>\n",
       "    <tr>\n",
       "      <th>2</th>\n",
       "      <td>Data Analyst</td>\n",
       "      <td>0.102703</td>\n",
       "    </tr>\n",
       "    <tr>\n",
       "      <th>7</th>\n",
       "      <td>Product Manager</td>\n",
       "      <td>0.099010</td>\n",
       "    </tr>\n",
       "    <tr>\n",
       "      <th>0</th>\n",
       "      <td>3D Artist</td>\n",
       "      <td>0.094972</td>\n",
       "    </tr>\n",
       "  </tbody>\n",
       "</table>\n",
       "</div>"
      ],
      "text/plain": [
       "                                     Headline   Laidoff\n",
       "8                             Program Manager  0.222892\n",
       "1   Associate General Counsel Data Protection  0.173611\n",
       "10                         Software Engineer   0.142045\n",
       "4                              Data Scientist  0.138889\n",
       "5                             Data Scientist   0.136095\n",
       "6                   Machine Learning Engineer  0.128049\n",
       "9                            Project Manager   0.123457\n",
       "3                               Data Engineer  0.118012\n",
       "2                                Data Analyst  0.102703\n",
       "7                             Product Manager  0.099010\n",
       "0                                   3D Artist  0.094972"
      ]
     },
     "execution_count": 14,
     "metadata": {},
     "output_type": "execute_result"
    }
   ],
   "source": [
    "# the most laidoff job title\n",
    "df_2_col.groupby([\"Headline\"], as_index=False).mean().sort_values(by=['Laidoff'], ascending=False)"
   ]
  },
  {
   "cell_type": "markdown",
   "id": "1766b7dd",
   "metadata": {},
   "source": [
    "<div id=\"ftr-eng\">\n",
    "        <h1 style=\"color:#1a1a1a\">\n",
    "              Feature Engineering 🏗️\n",
    "        </h1>\n",
    "</div>"
   ]
  },
  {
   "cell_type": "code",
   "execution_count": 15,
   "id": "fc451573",
   "metadata": {},
   "outputs": [],
   "source": [
    "data_cleaned = dataset.drop(axis=1, labels=[\"Name\", \"Company\"])"
   ]
  },
  {
   "cell_type": "code",
   "execution_count": 16,
   "id": "de6bfba9",
   "metadata": {
    "scrolled": true
   },
   "outputs": [
    {
     "data": {
      "text/html": [
       "<div>\n",
       "<style scoped>\n",
       "    .dataframe tbody tr th:only-of-type {\n",
       "        vertical-align: middle;\n",
       "    }\n",
       "\n",
       "    .dataframe tbody tr th {\n",
       "        vertical-align: top;\n",
       "    }\n",
       "\n",
       "    .dataframe thead th {\n",
       "        text-align: right;\n",
       "    }\n",
       "</style>\n",
       "<table border=\"1\" class=\"dataframe\">\n",
       "  <thead>\n",
       "    <tr style=\"text-align: right;\">\n",
       "      <th></th>\n",
       "      <th>Headline</th>\n",
       "      <th>Location</th>\n",
       "      <th>Company_Months</th>\n",
       "      <th>Work_Months</th>\n",
       "      <th>Laidoff</th>\n",
       "    </tr>\n",
       "  </thead>\n",
       "  <tbody>\n",
       "    <tr>\n",
       "      <th>0</th>\n",
       "      <td>Software Engineer</td>\n",
       "      <td>Nevada</td>\n",
       "      <td>38</td>\n",
       "      <td>273</td>\n",
       "      <td>False</td>\n",
       "    </tr>\n",
       "    <tr>\n",
       "      <th>1</th>\n",
       "      <td>Software Engineer</td>\n",
       "      <td>Arizona</td>\n",
       "      <td>141</td>\n",
       "      <td>213</td>\n",
       "      <td>False</td>\n",
       "    </tr>\n",
       "    <tr>\n",
       "      <th>2</th>\n",
       "      <td>Project Manager</td>\n",
       "      <td>Minnesota</td>\n",
       "      <td>138</td>\n",
       "      <td>341</td>\n",
       "      <td>False</td>\n",
       "    </tr>\n",
       "    <tr>\n",
       "      <th>3</th>\n",
       "      <td>Data Engineer</td>\n",
       "      <td>Maryland</td>\n",
       "      <td>134</td>\n",
       "      <td>213</td>\n",
       "      <td>False</td>\n",
       "    </tr>\n",
       "    <tr>\n",
       "      <th>4</th>\n",
       "      <td>Data Analyst</td>\n",
       "      <td>Indiana</td>\n",
       "      <td>193</td>\n",
       "      <td>337</td>\n",
       "      <td>False</td>\n",
       "    </tr>\n",
       "    <tr>\n",
       "      <th>...</th>\n",
       "      <td>...</td>\n",
       "      <td>...</td>\n",
       "      <td>...</td>\n",
       "      <td>...</td>\n",
       "      <td>...</td>\n",
       "    </tr>\n",
       "    <tr>\n",
       "      <th>1847</th>\n",
       "      <td>Product Manager</td>\n",
       "      <td>Washington</td>\n",
       "      <td>204</td>\n",
       "      <td>233</td>\n",
       "      <td>False</td>\n",
       "    </tr>\n",
       "    <tr>\n",
       "      <th>1848</th>\n",
       "      <td>Data Scientist</td>\n",
       "      <td>Kentucky</td>\n",
       "      <td>224</td>\n",
       "      <td>296</td>\n",
       "      <td>False</td>\n",
       "    </tr>\n",
       "    <tr>\n",
       "      <th>1849</th>\n",
       "      <td>Data Engineer</td>\n",
       "      <td>Washington</td>\n",
       "      <td>192</td>\n",
       "      <td>205</td>\n",
       "      <td>False</td>\n",
       "    </tr>\n",
       "    <tr>\n",
       "      <th>1850</th>\n",
       "      <td>Program Manager</td>\n",
       "      <td>Michigan</td>\n",
       "      <td>36</td>\n",
       "      <td>97</td>\n",
       "      <td>True</td>\n",
       "    </tr>\n",
       "    <tr>\n",
       "      <th>1851</th>\n",
       "      <td>Data Scientist</td>\n",
       "      <td>Maine</td>\n",
       "      <td>156</td>\n",
       "      <td>289</td>\n",
       "      <td>False</td>\n",
       "    </tr>\n",
       "  </tbody>\n",
       "</table>\n",
       "<p>1852 rows × 5 columns</p>\n",
       "</div>"
      ],
      "text/plain": [
       "                Headline    Location  Company_Months  Work_Months  Laidoff\n",
       "0     Software Engineer       Nevada              38          273    False\n",
       "1     Software Engineer      Arizona             141          213    False\n",
       "2       Project Manager    Minnesota             138          341    False\n",
       "3          Data Engineer    Maryland             134          213    False\n",
       "4           Data Analyst     Indiana             193          337    False\n",
       "...                  ...         ...             ...          ...      ...\n",
       "1847     Product Manager  Washington             204          233    False\n",
       "1848      Data Scientist    Kentucky             224          296    False\n",
       "1849       Data Engineer  Washington             192          205    False\n",
       "1850     Program Manager    Michigan              36           97     True\n",
       "1851      Data Scientist       Maine             156          289    False\n",
       "\n",
       "[1852 rows x 5 columns]"
      ]
     },
     "execution_count": 16,
     "metadata": {},
     "output_type": "execute_result"
    }
   ],
   "source": [
    "data_cleaned"
   ]
  },
  {
   "cell_type": "code",
   "execution_count": 17,
   "id": "dc40c35d",
   "metadata": {
    "scrolled": true
   },
   "outputs": [
    {
     "data": {
      "text/html": [
       "<div>\n",
       "<style scoped>\n",
       "    .dataframe tbody tr th:only-of-type {\n",
       "        vertical-align: middle;\n",
       "    }\n",
       "\n",
       "    .dataframe tbody tr th {\n",
       "        vertical-align: top;\n",
       "    }\n",
       "\n",
       "    .dataframe thead th {\n",
       "        text-align: right;\n",
       "    }\n",
       "</style>\n",
       "<table border=\"1\" class=\"dataframe\">\n",
       "  <thead>\n",
       "    <tr style=\"text-align: right;\">\n",
       "      <th></th>\n",
       "      <th>Company_Months</th>\n",
       "      <th>Work_Months</th>\n",
       "    </tr>\n",
       "  </thead>\n",
       "  <tbody>\n",
       "    <tr>\n",
       "      <th>0</th>\n",
       "      <td>38</td>\n",
       "      <td>273</td>\n",
       "    </tr>\n",
       "    <tr>\n",
       "      <th>1</th>\n",
       "      <td>141</td>\n",
       "      <td>213</td>\n",
       "    </tr>\n",
       "    <tr>\n",
       "      <th>2</th>\n",
       "      <td>138</td>\n",
       "      <td>341</td>\n",
       "    </tr>\n",
       "    <tr>\n",
       "      <th>3</th>\n",
       "      <td>134</td>\n",
       "      <td>213</td>\n",
       "    </tr>\n",
       "    <tr>\n",
       "      <th>4</th>\n",
       "      <td>193</td>\n",
       "      <td>337</td>\n",
       "    </tr>\n",
       "  </tbody>\n",
       "</table>\n",
       "</div>"
      ],
      "text/plain": [
       "   Company_Months  Work_Months\n",
       "0              38          273\n",
       "1             141          213\n",
       "2             138          341\n",
       "3             134          213\n",
       "4             193          337"
      ]
     },
     "execution_count": 17,
     "metadata": {},
     "output_type": "execute_result"
    }
   ],
   "source": [
    "numerical_data = data_cleaned.select_dtypes(include =['int64','float64'])\n",
    "numerical_data.head()"
   ]
  },
  {
   "cell_type": "code",
   "execution_count": 18,
   "id": "4a5acc7b",
   "metadata": {
    "scrolled": true
   },
   "outputs": [
    {
     "data": {
      "text/plain": [
       "<Figure size 2160x2160 with 0 Axes>"
      ]
     },
     "metadata": {},
     "output_type": "display_data"
    },
    {
     "data": {
      "image/png": "[encoded data removed]",
      "text/plain": [
       "<Figure size 360x360 with 6 Axes>"
      ]
     },
     "metadata": {
      "needs_background": "light"
     },
     "output_type": "display_data"
    }
   ],
   "source": [
    "plt.figure(figsize = (30,30))\n",
    "sns.pairplot(numerical_data)\n",
    "plt.show()"
   ]
  },
  {
   "cell_type": "markdown",
   "id": "683c047a",
   "metadata": {},
   "source": [
    "As there are lot of columns- we can't make out really much from above graph. Let us check the correlation."
   ]
  },
  {
   "cell_type": "code",
   "execution_count": 19,
   "id": "b28fb677",
   "metadata": {},
   "outputs": [
    {
     "data": {
      "text/html": [
       "<div>\n",
       "<style scoped>\n",
       "    .dataframe tbody tr th:only-of-type {\n",
       "        vertical-align: middle;\n",
       "    }\n",
       "\n",
       "    .dataframe tbody tr th {\n",
       "        vertical-align: top;\n",
       "    }\n",
       "\n",
       "    .dataframe thead th {\n",
       "        text-align: right;\n",
       "    }\n",
       "</style>\n",
       "<table border=\"1\" class=\"dataframe\">\n",
       "  <thead>\n",
       "    <tr style=\"text-align: right;\">\n",
       "      <th></th>\n",
       "      <th>Headline</th>\n",
       "      <th>Location</th>\n",
       "      <th>Laidoff</th>\n",
       "    </tr>\n",
       "  </thead>\n",
       "  <tbody>\n",
       "    <tr>\n",
       "      <th>0</th>\n",
       "      <td>Software Engineer</td>\n",
       "      <td>Nevada</td>\n",
       "      <td>False</td>\n",
       "    </tr>\n",
       "    <tr>\n",
       "      <th>1</th>\n",
       "      <td>Software Engineer</td>\n",
       "      <td>Arizona</td>\n",
       "      <td>False</td>\n",
       "    </tr>\n",
       "    <tr>\n",
       "      <th>2</th>\n",
       "      <td>Project Manager</td>\n",
       "      <td>Minnesota</td>\n",
       "      <td>False</td>\n",
       "    </tr>\n",
       "    <tr>\n",
       "      <th>3</th>\n",
       "      <td>Data Engineer</td>\n",
       "      <td>Maryland</td>\n",
       "      <td>False</td>\n",
       "    </tr>\n",
       "    <tr>\n",
       "      <th>4</th>\n",
       "      <td>Data Analyst</td>\n",
       "      <td>Indiana</td>\n",
       "      <td>False</td>\n",
       "    </tr>\n",
       "  </tbody>\n",
       "</table>\n",
       "</div>"
      ],
      "text/plain": [
       "             Headline   Location  Laidoff\n",
       "0  Software Engineer      Nevada    False\n",
       "1  Software Engineer     Arizona    False\n",
       "2    Project Manager   Minnesota    False\n",
       "3       Data Engineer   Maryland    False\n",
       "4        Data Analyst    Indiana    False"
      ]
     },
     "execution_count": 19,
     "metadata": {},
     "output_type": "execute_result"
    }
   ],
   "source": [
    "categorical_cols = data_cleaned.select_dtypes(include = ['object','bool'])\n",
    "categorical_cols.head()"
   ]
  },
  {
   "cell_type": "code",
   "execution_count": 20,
   "id": "ba9bf2f6",
   "metadata": {},
   "outputs": [],
   "source": [
    "#creating dummies for categorical data\n",
    "headline_df = categorical_cols.Headline"
   ]
  },
  {
   "cell_type": "code",
   "execution_count": 21,
   "id": "1f0afef9",
   "metadata": {
    "scrolled": true
   },
   "outputs": [],
   "source": [
    "headline_dict = {}\n",
    "for i,item in enumerate(headline_df.unique()):\n",
    "    headline_dict[item] = i+1\n"
   ]
  },
  {
   "cell_type": "code",
   "execution_count": 22,
   "id": "f9dfe452",
   "metadata": {},
   "outputs": [
    {
     "data": {
      "text/plain": [
       "{'Software Engineer ': 1,\n",
       " 'Project Manager ': 2,\n",
       " 'Data Engineer': 3,\n",
       " 'Data Analyst': 4,\n",
       " 'Program Manager': 5,\n",
       " '3D Artist': 6,\n",
       " 'Product Manager': 7,\n",
       " 'Data Scientist': 8,\n",
       " 'Machine Learning Engineer': 9,\n",
       " 'Data Scientist ': 10,\n",
       " 'Associate General Counsel Data Protection': 11}"
      ]
     },
     "execution_count": 22,
     "metadata": {},
     "output_type": "execute_result"
    }
   ],
   "source": [
    "headline_dict"
   ]
  },
  {
   "cell_type": "code",
   "execution_count": 23,
   "id": "75222221",
   "metadata": {},
   "outputs": [],
   "source": [
    "#creating dummies for categorical data\n",
    "location_df = categorical_cols.Location"
   ]
  },
  {
   "cell_type": "code",
   "execution_count": 24,
   "id": "7fe9deeb",
   "metadata": {},
   "outputs": [],
   "source": [
    "location_dict = {}\n",
    "for i,item in enumerate(location_df.unique()):\n",
    "    location_dict[item] = i+1\n"
   ]
  },
  {
   "cell_type": "code",
   "execution_count": 25,
   "id": "cfc6d5b1",
   "metadata": {},
   "outputs": [
    {
     "data": {
      "text/plain": [
       "{'Nevada': 1,\n",
       " 'Arizona': 2,\n",
       " 'Minnesota': 3,\n",
       " 'Maryland': 4,\n",
       " 'Indiana': 5,\n",
       " 'Iowa': 6,\n",
       " 'Vermont': 7,\n",
       " 'North Carolina': 8,\n",
       " 'Missouri': 9,\n",
       " 'Alaska': 10,\n",
       " 'South Carolina': 11,\n",
       " 'New Jersey': 12,\n",
       " 'Colorado': 13,\n",
       " 'Connecticut': 14,\n",
       " 'Wyoming': 15,\n",
       " 'Maine': 16,\n",
       " 'Kentucky': 17,\n",
       " 'Oklahoma': 18,\n",
       " 'Texas': 19,\n",
       " 'District of Columbia': 20,\n",
       " 'Michigan': 21,\n",
       " 'Massachusetts': 22,\n",
       " 'Rhode Island': 23,\n",
       " 'Illinois': 24,\n",
       " 'Delaware': 25,\n",
       " 'Pennsylvania': 26,\n",
       " 'Kansas': 27,\n",
       " 'Hawaii': 28,\n",
       " 'Oregon': 29,\n",
       " 'Alabama': 30,\n",
       " 'Ohio': 31,\n",
       " 'New Mexico': 32,\n",
       " 'Washington': 33,\n",
       " 'California': 34,\n",
       " 'Montana': 35,\n",
       " 'Virginia': 36,\n",
       " 'Idaho': 37,\n",
       " 'West Virginia': 38,\n",
       " 'Arkansas': 39,\n",
       " 'Wisconsin': 40,\n",
       " 'Louisiana': 41,\n",
       " 'Georgia': 42,\n",
       " 'Mississippi': 43,\n",
       " 'North Dakota': 44,\n",
       " 'Tennessee': 45,\n",
       " 'New Hampshire': 46,\n",
       " 'South Dakota': 47,\n",
       " 'New York': 48,\n",
       " 'Florida': 49,\n",
       " 'Utah': 50,\n",
       " 'Nebraska': 51}"
      ]
     },
     "execution_count": 25,
     "metadata": {},
     "output_type": "execute_result"
    }
   ],
   "source": [
    "location_dict"
   ]
  },
  {
   "cell_type": "code",
   "execution_count": 26,
   "id": "e55653ec",
   "metadata": {},
   "outputs": [],
   "source": [
    "categorical_cols[\"Headline\"] = categorical_cols[\"Headline\"].apply(lambda x: headline_dict[x])"
   ]
  },
  {
   "cell_type": "code",
   "execution_count": 27,
   "id": "ab42dd9a",
   "metadata": {},
   "outputs": [
    {
     "data": {
      "text/plain": [
       "0       1\n",
       "1       1\n",
       "2       2\n",
       "3       3\n",
       "4       4\n",
       "       ..\n",
       "1847    7\n",
       "1848    8\n",
       "1849    3\n",
       "1850    5\n",
       "1851    8\n",
       "Name: Headline, Length: 1852, dtype: int64"
      ]
     },
     "execution_count": 27,
     "metadata": {},
     "output_type": "execute_result"
    }
   ],
   "source": [
    "categorical_cols[\"Headline\"]"
   ]
  },
  {
   "cell_type": "code",
   "execution_count": 28,
   "id": "068664cb",
   "metadata": {},
   "outputs": [],
   "source": [
    "categorical_cols[\"Location\"] = categorical_cols[\"Location\"].apply(lambda x: location_dict[x])"
   ]
  },
  {
   "cell_type": "code",
   "execution_count": 29,
   "id": "d42b512f",
   "metadata": {},
   "outputs": [
    {
     "data": {
      "text/plain": [
       "0        1\n",
       "1        2\n",
       "2        3\n",
       "3        4\n",
       "4        5\n",
       "        ..\n",
       "1847    33\n",
       "1848    17\n",
       "1849    33\n",
       "1850    21\n",
       "1851    16\n",
       "Name: Location, Length: 1852, dtype: int64"
      ]
     },
     "execution_count": 29,
     "metadata": {},
     "output_type": "execute_result"
    }
   ],
   "source": [
    "categorical_cols[\"Location\"]"
   ]
  },
  {
   "cell_type": "code",
   "execution_count": 30,
   "id": "3a71e06a",
   "metadata": {},
   "outputs": [],
   "source": [
    "all_data  = pd.concat([numerical_data, categorical_cols], axis =1)"
   ]
  },
  {
   "cell_type": "code",
   "execution_count": 31,
   "id": "a4791720",
   "metadata": {},
   "outputs": [
    {
     "data": {
      "text/html": [
       "<div>\n",
       "<style scoped>\n",
       "    .dataframe tbody tr th:only-of-type {\n",
       "        vertical-align: middle;\n",
       "    }\n",
       "\n",
       "    .dataframe tbody tr th {\n",
       "        vertical-align: top;\n",
       "    }\n",
       "\n",
       "    .dataframe thead th {\n",
       "        text-align: right;\n",
       "    }\n",
       "</style>\n",
       "<table border=\"1\" class=\"dataframe\">\n",
       "  <thead>\n",
       "    <tr style=\"text-align: right;\">\n",
       "      <th></th>\n",
       "      <th>Company_Months</th>\n",
       "      <th>Work_Months</th>\n",
       "      <th>Headline</th>\n",
       "      <th>Location</th>\n",
       "      <th>Laidoff</th>\n",
       "    </tr>\n",
       "  </thead>\n",
       "  <tbody>\n",
       "    <tr>\n",
       "      <th>0</th>\n",
       "      <td>38</td>\n",
       "      <td>273</td>\n",
       "      <td>1</td>\n",
       "      <td>1</td>\n",
       "      <td>False</td>\n",
       "    </tr>\n",
       "    <tr>\n",
       "      <th>1</th>\n",
       "      <td>141</td>\n",
       "      <td>213</td>\n",
       "      <td>1</td>\n",
       "      <td>2</td>\n",
       "      <td>False</td>\n",
       "    </tr>\n",
       "    <tr>\n",
       "      <th>2</th>\n",
       "      <td>138</td>\n",
       "      <td>341</td>\n",
       "      <td>2</td>\n",
       "      <td>3</td>\n",
       "      <td>False</td>\n",
       "    </tr>\n",
       "    <tr>\n",
       "      <th>3</th>\n",
       "      <td>134</td>\n",
       "      <td>213</td>\n",
       "      <td>3</td>\n",
       "      <td>4</td>\n",
       "      <td>False</td>\n",
       "    </tr>\n",
       "    <tr>\n",
       "      <th>4</th>\n",
       "      <td>193</td>\n",
       "      <td>337</td>\n",
       "      <td>4</td>\n",
       "      <td>5</td>\n",
       "      <td>False</td>\n",
       "    </tr>\n",
       "    <tr>\n",
       "      <th>...</th>\n",
       "      <td>...</td>\n",
       "      <td>...</td>\n",
       "      <td>...</td>\n",
       "      <td>...</td>\n",
       "      <td>...</td>\n",
       "    </tr>\n",
       "    <tr>\n",
       "      <th>1847</th>\n",
       "      <td>204</td>\n",
       "      <td>233</td>\n",
       "      <td>7</td>\n",
       "      <td>33</td>\n",
       "      <td>False</td>\n",
       "    </tr>\n",
       "    <tr>\n",
       "      <th>1848</th>\n",
       "      <td>224</td>\n",
       "      <td>296</td>\n",
       "      <td>8</td>\n",
       "      <td>17</td>\n",
       "      <td>False</td>\n",
       "    </tr>\n",
       "    <tr>\n",
       "      <th>1849</th>\n",
       "      <td>192</td>\n",
       "      <td>205</td>\n",
       "      <td>3</td>\n",
       "      <td>33</td>\n",
       "      <td>False</td>\n",
       "    </tr>\n",
       "    <tr>\n",
       "      <th>1850</th>\n",
       "      <td>36</td>\n",
       "      <td>97</td>\n",
       "      <td>5</td>\n",
       "      <td>21</td>\n",
       "      <td>True</td>\n",
       "    </tr>\n",
       "    <tr>\n",
       "      <th>1851</th>\n",
       "      <td>156</td>\n",
       "      <td>289</td>\n",
       "      <td>8</td>\n",
       "      <td>16</td>\n",
       "      <td>False</td>\n",
       "    </tr>\n",
       "  </tbody>\n",
       "</table>\n",
       "<p>1852 rows × 5 columns</p>\n",
       "</div>"
      ],
      "text/plain": [
       "      Company_Months  Work_Months  Headline  Location  Laidoff\n",
       "0                 38          273         1         1    False\n",
       "1                141          213         1         2    False\n",
       "2                138          341         2         3    False\n",
       "3                134          213         3         4    False\n",
       "4                193          337         4         5    False\n",
       "...              ...          ...       ...       ...      ...\n",
       "1847             204          233         7        33    False\n",
       "1848             224          296         8        17    False\n",
       "1849             192          205         3        33    False\n",
       "1850              36           97         5        21     True\n",
       "1851             156          289         8        16    False\n",
       "\n",
       "[1852 rows x 5 columns]"
      ]
     },
     "execution_count": 31,
     "metadata": {},
     "output_type": "execute_result"
    }
   ],
   "source": [
    "all_data"
   ]
  },
  {
   "cell_type": "code",
   "execution_count": 32,
   "id": "2a063e80",
   "metadata": {},
   "outputs": [
    {
     "data": {
      "image/png": "[encoded data removed]",
      "text/plain": [
       "<Figure size 1440x1440 with 2 Axes>"
      ]
     },
     "metadata": {
      "needs_background": "light"
     },
     "output_type": "display_data"
    }
   ],
   "source": [
    "plt.figure(figsize = (20,20))\n",
    "sns.heatmap(all_data.corr(), annot = True ,cmap = 'YlGnBu')\n",
    "plt.show()"
   ]
  },
  {
   "cell_type": "markdown",
   "id": "aad4b038",
   "metadata": {},
   "source": [
    "<div id=\"prepro\">\n",
    "        <h1 style=\"color:#1a1a1a\">\n",
    "         Preprocessing ⚙️\n",
    "        </h1>\n",
    "</div>"
   ]
  },
  {
   "cell_type": "markdown",
   "id": "302494c8",
   "metadata": {},
   "source": [
    "<h4 style=\"color:grey\"> Importing Liberaries</h4>"
   ]
  },
  {
   "cell_type": "code",
   "execution_count": 33,
   "id": "58eac2d7",
   "metadata": {},
   "outputs": [],
   "source": [
    "from sklearn.model_selection import train_test_split \n",
    "from sklearn.metrics import classification_report, accuracy_score, confusion_matrix"
   ]
  },
  {
   "cell_type": "code",
   "execution_count": 46,
   "id": "39a73121",
   "metadata": {},
   "outputs": [],
   "source": [
    "# training_data -> attributes, target -> diabetes\n",
    "training_data = all_data.drop(['Laidoff'], axis=1)\n",
    "target = all_data[['Laidoff']]\n",
    "\n",
    "X_train, X_test, y_train, y_test = train_test_split(training_data, target, test_size=0.2, random_state=10)"
   ]
  },
  {
   "cell_type": "code",
   "execution_count": 35,
   "id": "198e1eba",
   "metadata": {},
   "outputs": [
    {
     "name": "stdout",
     "output_type": "stream",
     "text": [
      "the number of training entries is:  1481\n",
      "the number of testing entries is:  371\n"
     ]
    }
   ],
   "source": [
    "print('the number of training entries is: ', X_train.shape[0])\n",
    "print('the number of testing entries is: ', X_test.shape[0])"
   ]
  },
  {
   "cell_type": "code",
   "execution_count": 36,
   "id": "e8837de0",
   "metadata": {},
   "outputs": [
    {
     "data": {
      "text/plain": [
       "Laidoff\n",
       "False      1291\n",
       "True        190\n",
       "dtype: int64"
      ]
     },
     "execution_count": 36,
     "metadata": {},
     "output_type": "execute_result"
    }
   ],
   "source": [
    "# y_train values:\n",
    "y_train.value_counts()"
   ]
  },
  {
   "cell_type": "code",
   "execution_count": 37,
   "id": "d38cc5ab",
   "metadata": {
    "scrolled": false
   },
   "outputs": [
    {
     "data": {
      "text/plain": [
       "Laidoff\n",
       "False      315\n",
       "True        56\n",
       "dtype: int64"
      ]
     },
     "execution_count": 37,
     "metadata": {},
     "output_type": "execute_result"
    }
   ],
   "source": [
    "# y_test values:\n",
    "y_test.value_counts()"
   ]
  },
  {
   "cell_type": "code",
   "execution_count": null,
   "id": "5fd19181",
   "metadata": {},
   "outputs": [],
   "source": [
    "def confusion(y_test, y_pred):\n",
    "    conf = pd.DataFrame(confusion_matrix(y_test, y_pred))\n",
    "    print('\\nConfusion Matrix:')\n",
    "    print(conf)\n",
    "    return conf"
   ]
  },
  {
   "cell_type": "markdown",
   "id": "4b9f445a",
   "metadata": {},
   "source": [
    "<div id=\"model-building\">\n",
    "        <h1 style=\"color:#1a1a1a\">\n",
    "         Building models 🛠️\n",
    "        </h1>\n",
    "</div>"
   ]
  },
  {
   "cell_type": "markdown",
   "id": "83e4c6a8",
   "metadata": {},
   "source": [
    "### XGBClassifier"
   ]
  },
  {
   "cell_type": "code",
   "execution_count": 38,
   "id": "f592d24d",
   "metadata": {
    "scrolled": true
   },
   "outputs": [
    {
     "name": "stdout",
     "output_type": "stream",
     "text": [
      "[01:43:44] WARNING: C:/Users/Administrator/workspace/xgboost-win64_release_1.5.1/src/learner.cc:1115: Starting in XGBoost 1.3.0, the default evaluation metric used with the objective 'binary:logistic' was changed from 'error' to 'logloss'. Explicitly set eval_metric if you'd like to restore the old behavior.\n",
      "\n",
      "Accuracy: 98.65%\n",
      "\n",
      "Confusion Matrix:\n",
      "     0   1\n",
      "0  314   1\n",
      "1    4  52\n"
     ]
    },
    {
     "data": {
      "text/html": [
       "<div>\n",
       "<style scoped>\n",
       "    .dataframe tbody tr th:only-of-type {\n",
       "        vertical-align: middle;\n",
       "    }\n",
       "\n",
       "    .dataframe tbody tr th {\n",
       "        vertical-align: top;\n",
       "    }\n",
       "\n",
       "    .dataframe thead th {\n",
       "        text-align: right;\n",
       "    }\n",
       "</style>\n",
       "<table border=\"1\" class=\"dataframe\">\n",
       "  <thead>\n",
       "    <tr style=\"text-align: right;\">\n",
       "      <th></th>\n",
       "      <th>0</th>\n",
       "      <th>1</th>\n",
       "    </tr>\n",
       "  </thead>\n",
       "  <tbody>\n",
       "    <tr>\n",
       "      <th>0</th>\n",
       "      <td>314</td>\n",
       "      <td>1</td>\n",
       "    </tr>\n",
       "    <tr>\n",
       "      <th>1</th>\n",
       "      <td>4</td>\n",
       "      <td>52</td>\n",
       "    </tr>\n",
       "  </tbody>\n",
       "</table>\n",
       "</div>"
      ],
      "text/plain": [
       "     0   1\n",
       "0  314   1\n",
       "1    4  52"
      ]
     },
     "execution_count": 38,
     "metadata": {},
     "output_type": "execute_result"
    }
   ],
   "source": [
    "from xgboost import XGBClassifier\n",
    "\n",
    "\n",
    "mscore=[]\n",
    "model = XGBClassifier()\n",
    "model.fit(X_train, y_train)\n",
    "y_pred = model.predict(X_test)\n",
    "\n",
    "accuracy = accuracy_score(y_test, y_pred)\n",
    "print(\"\\nAccuracy: %.2f%%\" % (accuracy * 100.0))\n",
    "\n",
    "mscore.append(['XGBClassifier', accuracy])\n",
    "\n",
    "confusion(y_test, y_pred)"
   ]
  },
  {
   "cell_type": "markdown",
   "id": "3831073f",
   "metadata": {},
   "source": [
    "### Logistic Regression"
   ]
  },
  {
   "cell_type": "code",
   "execution_count": 39,
   "id": "9fd5642d",
   "metadata": {},
   "outputs": [
    {
     "name": "stdout",
     "output_type": "stream",
     "text": [
      "\n",
      "Accuracy Score: 100.0%\n",
      "              precision    recall  f1-score   support\n",
      "\n",
      "       False       1.00      1.00      1.00       315\n",
      "        True       1.00      1.00      1.00        56\n",
      "\n",
      "    accuracy                           1.00       371\n",
      "   macro avg       1.00      1.00      1.00       371\n",
      "weighted avg       1.00      1.00      1.00       371\n",
      "\n",
      "\n",
      "Confusion Matrix:\n",
      "     0   1\n",
      "0  315   0\n",
      "1    0  56\n"
     ]
    },
    {
     "data": {
      "text/html": [
       "<div>\n",
       "<style scoped>\n",
       "    .dataframe tbody tr th:only-of-type {\n",
       "        vertical-align: middle;\n",
       "    }\n",
       "\n",
       "    .dataframe tbody tr th {\n",
       "        vertical-align: top;\n",
       "    }\n",
       "\n",
       "    .dataframe thead th {\n",
       "        text-align: right;\n",
       "    }\n",
       "</style>\n",
       "<table border=\"1\" class=\"dataframe\">\n",
       "  <thead>\n",
       "    <tr style=\"text-align: right;\">\n",
       "      <th></th>\n",
       "      <th>0</th>\n",
       "      <th>1</th>\n",
       "    </tr>\n",
       "  </thead>\n",
       "  <tbody>\n",
       "    <tr>\n",
       "      <th>0</th>\n",
       "      <td>315</td>\n",
       "      <td>0</td>\n",
       "    </tr>\n",
       "    <tr>\n",
       "      <th>1</th>\n",
       "      <td>0</td>\n",
       "      <td>56</td>\n",
       "    </tr>\n",
       "  </tbody>\n",
       "</table>\n",
       "</div>"
      ],
      "text/plain": [
       "     0   1\n",
       "0  315   0\n",
       "1    0  56"
      ]
     },
     "execution_count": 39,
     "metadata": {},
     "output_type": "execute_result"
    }
   ],
   "source": [
    "from sklearn.linear_model import LogisticRegression\n",
    "\n",
    "clf = LogisticRegression(max_iter=100, solver='lbfgs', class_weight='balanced', random_state=11).fit(X_train, y_train)\n",
    "y_pred = clf.predict(X_test)\n",
    "\n",
    "print('\\nAccuracy Score: '+str(clf.score(X_test, y_test)*100)+\"%\")\n",
    "\n",
    "mscore.append(['Logistic Regression', clf.score(X_test, y_test)])\n",
    "\n",
    "print(classification_report(y_test, y_pred))\n",
    "confusion(y_test, y_pred)"
   ]
  },
  {
   "cell_type": "markdown",
   "id": "3e526889",
   "metadata": {},
   "source": [
    "### Random Forest"
   ]
  },
  {
   "cell_type": "code",
   "execution_count": 40,
   "id": "4c86dee8",
   "metadata": {},
   "outputs": [
    {
     "name": "stdout",
     "output_type": "stream",
     "text": [
      "\n",
      "Accuracy Score: 98.92%\n",
      "              precision    recall  f1-score   support\n",
      "\n",
      "       False       0.99      0.99      0.99       315\n",
      "        True       0.96      0.96      0.96        56\n",
      "\n",
      "    accuracy                           0.99       371\n",
      "   macro avg       0.98      0.98      0.98       371\n",
      "weighted avg       0.99      0.99      0.99       371\n",
      "\n",
      "\n",
      "Confusion Matrix:\n",
      "     0   1\n",
      "0  313   2\n",
      "1    2  54\n"
     ]
    },
    {
     "data": {
      "text/html": [
       "<div>\n",
       "<style scoped>\n",
       "    .dataframe tbody tr th:only-of-type {\n",
       "        vertical-align: middle;\n",
       "    }\n",
       "\n",
       "    .dataframe tbody tr th {\n",
       "        vertical-align: top;\n",
       "    }\n",
       "\n",
       "    .dataframe thead th {\n",
       "        text-align: right;\n",
       "    }\n",
       "</style>\n",
       "<table border=\"1\" class=\"dataframe\">\n",
       "  <thead>\n",
       "    <tr style=\"text-align: right;\">\n",
       "      <th></th>\n",
       "      <th>0</th>\n",
       "      <th>1</th>\n",
       "    </tr>\n",
       "  </thead>\n",
       "  <tbody>\n",
       "    <tr>\n",
       "      <th>0</th>\n",
       "      <td>313</td>\n",
       "      <td>2</td>\n",
       "    </tr>\n",
       "    <tr>\n",
       "      <th>1</th>\n",
       "      <td>2</td>\n",
       "      <td>54</td>\n",
       "    </tr>\n",
       "  </tbody>\n",
       "</table>\n",
       "</div>"
      ],
      "text/plain": [
       "     0   1\n",
       "0  313   2\n",
       "1    2  54"
      ]
     },
     "execution_count": 40,
     "metadata": {},
     "output_type": "execute_result"
    }
   ],
   "source": [
    "from sklearn.ensemble import RandomForestClassifier\n",
    "\n",
    "rnd_clf = RandomForestClassifier(n_estimators=150, criterion='gini', max_depth=5, random_state=11)\n",
    "rnd_clf.fit(X_train, y_train)\n",
    "\n",
    "y_pred = rnd_clf.predict(X_test)\n",
    "\n",
    "print(\"\\nAccuracy Score: %.2f%%\" % float(rnd_clf.score(X_test, y_test)*100))\n",
    "\n",
    "\n",
    "mscore.append(['Random Forest', rnd_clf.score(X_test, y_test)])\n",
    "\n",
    "print(classification_report(y_test, y_pred))\n",
    "confusion(y_test, y_pred)"
   ]
  },
  {
   "cell_type": "code",
   "execution_count": 41,
   "id": "3f14f2a4",
   "metadata": {
    "scrolled": true
   },
   "outputs": [
    {
     "name": "stdout",
     "output_type": "stream",
     "text": [
      "\n",
      "Accuracy Score: 98.65%\n",
      "              precision    recall  f1-score   support\n",
      "\n",
      "       False       0.99      0.99      0.99       315\n",
      "        True       0.96      0.95      0.95        56\n",
      "\n",
      "    accuracy                           0.99       371\n",
      "   macro avg       0.98      0.97      0.97       371\n",
      "weighted avg       0.99      0.99      0.99       371\n",
      "\n",
      "\n",
      "Confusion Matrix:\n",
      "     0   1\n",
      "0  313   2\n",
      "1    3  53\n"
     ]
    },
    {
     "data": {
      "text/html": [
       "<div>\n",
       "<style scoped>\n",
       "    .dataframe tbody tr th:only-of-type {\n",
       "        vertical-align: middle;\n",
       "    }\n",
       "\n",
       "    .dataframe tbody tr th {\n",
       "        vertical-align: top;\n",
       "    }\n",
       "\n",
       "    .dataframe thead th {\n",
       "        text-align: right;\n",
       "    }\n",
       "</style>\n",
       "<table border=\"1\" class=\"dataframe\">\n",
       "  <thead>\n",
       "    <tr style=\"text-align: right;\">\n",
       "      <th></th>\n",
       "      <th>0</th>\n",
       "      <th>1</th>\n",
       "    </tr>\n",
       "  </thead>\n",
       "  <tbody>\n",
       "    <tr>\n",
       "      <th>0</th>\n",
       "      <td>313</td>\n",
       "      <td>2</td>\n",
       "    </tr>\n",
       "    <tr>\n",
       "      <th>1</th>\n",
       "      <td>3</td>\n",
       "      <td>53</td>\n",
       "    </tr>\n",
       "  </tbody>\n",
       "</table>\n",
       "</div>"
      ],
      "text/plain": [
       "     0   1\n",
       "0  313   2\n",
       "1    3  53"
      ]
     },
     "execution_count": 41,
     "metadata": {},
     "output_type": "execute_result"
    }
   ],
   "source": [
    "from sklearn.ensemble import GradientBoostingClassifier\n",
    "\n",
    "gbc = GradientBoostingClassifier(learning_rate=0.1, n_estimators=10, random_state=11)\n",
    "gbc.fit(X_train, y_train)\n",
    "\n",
    "y_pred = gbc.predict(X_test)\n",
    "\n",
    "print(\"\\nAccuracy Score: %.2f%%\" % float(gbc.score(X_test, y_test)*100))\n",
    "\n",
    "mscore.append(['GradientBoosting', gbc.score(X_test, y_test)])\n",
    "\n",
    "print(classification_report(y_test, y_pred))\n",
    "confusion(y_test, y_pred)"
   ]
  },
  {
   "cell_type": "markdown",
   "id": "44872e3b",
   "metadata": {},
   "source": [
    "### AdaBoostClassifier"
   ]
  },
  {
   "cell_type": "code",
   "execution_count": 42,
   "id": "defd99f9",
   "metadata": {},
   "outputs": [
    {
     "name": "stdout",
     "output_type": "stream",
     "text": [
      "\n",
      "Accuracy Score: 94.88%\n",
      "              precision    recall  f1-score   support\n",
      "\n",
      "       False       0.99      0.95      0.97       315\n",
      "        True       0.78      0.93      0.85        56\n",
      "\n",
      "    accuracy                           0.95       371\n",
      "   macro avg       0.88      0.94      0.91       371\n",
      "weighted avg       0.96      0.95      0.95       371\n",
      "\n",
      "\n",
      "Confusion Matrix:\n",
      "     0   1\n",
      "0  300  15\n",
      "1    4  52\n"
     ]
    },
    {
     "data": {
      "text/html": [
       "<div>\n",
       "<style scoped>\n",
       "    .dataframe tbody tr th:only-of-type {\n",
       "        vertical-align: middle;\n",
       "    }\n",
       "\n",
       "    .dataframe tbody tr th {\n",
       "        vertical-align: top;\n",
       "    }\n",
       "\n",
       "    .dataframe thead th {\n",
       "        text-align: right;\n",
       "    }\n",
       "</style>\n",
       "<table border=\"1\" class=\"dataframe\">\n",
       "  <thead>\n",
       "    <tr style=\"text-align: right;\">\n",
       "      <th></th>\n",
       "      <th>0</th>\n",
       "      <th>1</th>\n",
       "    </tr>\n",
       "  </thead>\n",
       "  <tbody>\n",
       "    <tr>\n",
       "      <th>0</th>\n",
       "      <td>300</td>\n",
       "      <td>15</td>\n",
       "    </tr>\n",
       "    <tr>\n",
       "      <th>1</th>\n",
       "      <td>4</td>\n",
       "      <td>52</td>\n",
       "    </tr>\n",
       "  </tbody>\n",
       "</table>\n",
       "</div>"
      ],
      "text/plain": [
       "     0   1\n",
       "0  300  15\n",
       "1    4  52"
      ]
     },
     "execution_count": 42,
     "metadata": {},
     "output_type": "execute_result"
    }
   ],
   "source": [
    "from sklearn.ensemble import AdaBoostClassifier\n",
    "\n",
    "ada = AdaBoostClassifier(learning_rate=0.01, n_estimators=30, random_state=11)\n",
    "ada.fit(X_train, y_train)\n",
    "\n",
    "y_pred = ada.predict(X_test)\n",
    "\n",
    "print(\"\\nAccuracy Score: %.2f%%\" % float(ada.score(X_test, y_test)*100))\n",
    "\n",
    "mscore.append(['Adaptive Boosting', ada.score(X_test, y_test)])\n",
    "\n",
    "# from sklearn.metrics import classification_report\n",
    "print(classification_report(y_test, y_pred))\n",
    "confusion(y_test, y_pred)"
   ]
  },
  {
   "cell_type": "markdown",
   "id": "e6ceab31",
   "metadata": {},
   "source": [
    "### SVM"
   ]
  },
  {
   "cell_type": "code",
   "execution_count": 43,
   "id": "150e964e",
   "metadata": {
    "scrolled": true
   },
   "outputs": [
    {
     "name": "stdout",
     "output_type": "stream",
     "text": [
      "\n",
      "Accuracy Score: 84.91%\n",
      "              precision    recall  f1-score   support\n",
      "\n",
      "       False       0.85      1.00      0.92       315\n",
      "        True       0.00      0.00      0.00        56\n",
      "\n",
      "    accuracy                           0.85       371\n",
      "   macro avg       0.42      0.50      0.46       371\n",
      "weighted avg       0.72      0.85      0.78       371\n",
      "\n",
      "\n",
      "Confusion Matrix:\n",
      "     0  1\n",
      "0  315  0\n",
      "1   56  0\n"
     ]
    },
    {
     "data": {
      "text/html": [
       "<div>\n",
       "<style scoped>\n",
       "    .dataframe tbody tr th:only-of-type {\n",
       "        vertical-align: middle;\n",
       "    }\n",
       "\n",
       "    .dataframe tbody tr th {\n",
       "        vertical-align: top;\n",
       "    }\n",
       "\n",
       "    .dataframe thead th {\n",
       "        text-align: right;\n",
       "    }\n",
       "</style>\n",
       "<table border=\"1\" class=\"dataframe\">\n",
       "  <thead>\n",
       "    <tr style=\"text-align: right;\">\n",
       "      <th></th>\n",
       "      <th>0</th>\n",
       "      <th>1</th>\n",
       "    </tr>\n",
       "  </thead>\n",
       "  <tbody>\n",
       "    <tr>\n",
       "      <th>0</th>\n",
       "      <td>315</td>\n",
       "      <td>0</td>\n",
       "    </tr>\n",
       "    <tr>\n",
       "      <th>1</th>\n",
       "      <td>56</td>\n",
       "      <td>0</td>\n",
       "    </tr>\n",
       "  </tbody>\n",
       "</table>\n",
       "</div>"
      ],
      "text/plain": [
       "     0  1\n",
       "0  315  0\n",
       "1   56  0"
      ]
     },
     "execution_count": 43,
     "metadata": {},
     "output_type": "execute_result"
    }
   ],
   "source": [
    "from sklearn.svm import SVC\n",
    "svm_clf = SVC(kernel='sigmoid', gamma='auto', random_state=11)\n",
    "svm_clf.fit(X_train, y_train)\n",
    "y_pred = svm_clf.predict(X_test)\n",
    "\n",
    "print(\"\\nAccuracy Score: %.2f%%\" % float(svm_clf.score(X_test, y_test)*100))# In[ ]:\n",
    "\n",
    "mscore.append(['SVM', svm_clf.score(X_test, y_test)])\n",
    "\n",
    "# from sklearn.metrics import classification_report\n",
    "print(classification_report(y_test, y_pred))\n",
    "confusion(y_test, y_pred)"
   ]
  },
  {
   "cell_type": "markdown",
   "id": "1f95e849",
   "metadata": {},
   "source": [
    "<div id=\"model-eval\">\n",
    "        <h1 style=\"color:#1a1a1a\">\n",
    "        Model Comparison 📉\n",
    "        </h1>\n",
    "</div>"
   ]
  },
  {
   "cell_type": "code",
   "execution_count": 44,
   "id": "479e2eaf",
   "metadata": {},
   "outputs": [
    {
     "data": {
      "text/plain": [
       "[['Logistic Regression', 1.0],\n",
       " ['Random Forest', 0.9892183288409704],\n",
       " ['XGBClassifier', 0.9865229110512129],\n",
       " ['GradientBoosting', 0.9865229110512129],\n",
       " ['Adaptive Boosting', 0.9487870619946092],\n",
       " ['SVM', 0.8490566037735849]]"
      ]
     },
     "execution_count": 44,
     "metadata": {},
     "output_type": "execute_result"
    }
   ],
   "source": [
    "mscore.sort(key=lambda x: x[1], reverse=True)\n",
    "mscore"
   ]
  },
  {
   "cell_type": "code",
   "execution_count": 45,
   "id": "75b22ab9",
   "metadata": {},
   "outputs": [
    {
     "name": "stdout",
     "output_type": "stream",
     "text": [
      "Accracy Score: \n",
      "\n",
      "Logistic Regression: 100.0%\n",
      "Random Forest: 98.92%\n",
      "XGBClassifier: 98.65%\n",
      "GradientBoosting: 98.65%\n",
      "Adaptive Boosting: 94.88%\n",
      "SVM: 84.91%\n"
     ]
    },
    {
     "data": {
      "image/png": "[encoded data removed]",
      "text/plain": [
       "<Figure size 432x288 with 1 Axes>"
      ]
     },
     "metadata": {
      "needs_background": "light"
     },
     "output_type": "display_data"
    }
   ],
   "source": [
    "model = list(i[0] for i in mscore)\n",
    "score = list(round(i[1]*100,2) for i in mscore)\n",
    "\n",
    "print('Accracy Score: \\n')\n",
    "for m,s in zip(model, score):\n",
    "    print(f'{m}: {s}%')\n",
    "  \n",
    " \n",
    "# creating horizontal bar plot\n",
    "plt.barh(model, score, height = 0.5, color='#4B4E6D') # this color is called independence, how cool!\n",
    " \n",
    "plt.xlabel(\"Accuracy Score\")\n",
    "plt.ylabel(\"Model\")\n",
    "plt.title(\"Model Comparison\")\n",
    "plt.gca().invert_yaxis()\n",
    "plt.show()"
   ]
  },
  {
   "cell_type": "markdown",
   "id": "aac7ae49",
   "metadata": {},
   "source": [
    "<div id=\"model-prod\">\n",
    "        <h1 style=\"color:#1a1a1a\">\n",
    "         Models to Production 👷‍\n",
    "        </h1>\n",
    "</div>"
   ]
  },
  {
   "cell_type": "code",
   "execution_count": 51,
   "id": "21ebea51",
   "metadata": {},
   "outputs": [
    {
     "name": "stdout",
     "output_type": "stream",
     "text": [
      "1.0\n"
     ]
    }
   ],
   "source": [
    "import joblib\n",
    "\n",
    "# save the models to disk\n",
    "joblib.dump(clf, \"./Models/LR.sav\")# load the models from disk\n",
    "joblib.dump(rnd_clf, \"./Models/RF_CLF.sav\")\n",
    "joblib.dump(model, \"./Models/XGB.sav\")\n",
    " \n",
    "# some time later...\n",
    " \n",
    "# load the model from disk\n",
    "loaded_model = joblib.load(\"./Models/LR.sav\")\n",
    "result = loaded_model.score(X_test, y_test)\n",
    "print(result)"
   ]
  }
 ],
 "metadata": {
  "kernelspec": {
   "display_name": "Python 3 (ipykernel)",
   "language": "python",
   "name": "python3"
  },
  "language_info": {
   "codemirror_mode": {
    "name": "ipython",
    "version": 3
   },
   "file_extension": ".py",
   "mimetype": "text/x-python",
   "name": "python",
   "nbconvert_exporter": "python",
   "pygments_lexer": "ipython3",
   "version": "3.9.7"
  },
  "vscode": {
   "interpreter": {
    "hash": "2df26e5ce5b4393bbb4241d39827366fcdd996023f17e08f1eddf7340c9b7fae"
   }
  }
 },
 "nbformat": 4,
 "nbformat_minor": 5
}
